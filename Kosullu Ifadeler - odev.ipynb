{
 "cells": [
  {
   "cell_type": "markdown",
   "metadata": {},
   "source": [
    "# 2.4. Kosullu Ifadeler - Odev"
   ]
  },
  {
   "cell_type": "code",
   "execution_count": 2,
   "metadata": {},
   "outputs": [
    {
     "name": "stdout",
     "output_type": "stream",
     "text": [
      "Sicaklik birimini giriniz:Fahrenheit\n",
      "Sicaklik degerini giriniz:40\n",
      "4.444444444444445 C\n"
     ]
    }
   ],
   "source": [
    "# 1\n",
    "# Kullanıcıdan Santigrat ya da Fahrenheit olarak sıcaklık değerini alacak\n",
    "# ve diğer sıcaklık birimine çevirecek bir kod yazın. \n",
    "# Dönüşüm için C = (5/9) * (F - 32) formülünü kullanabilirsiniz.\n",
    "\n",
    "birim = input('Sicaklik birimini giriniz:')\n",
    "deger = int(input(\"Sicaklik degerini giriniz:\"))\n",
    "\n",
    "if birim == 'Fahrenheit':\n",
    "    sicaklik = (5/9)*(deger-32)\n",
    "    print(sicaklik,\"C\")\n",
    "else:\n",
    "    sicaklik = (9*deger/5)+32\n",
    "    print(sicaklik,\"F\")\n"
   ]
  },
  {
   "cell_type": "code",
   "execution_count": 3,
   "metadata": {},
   "outputs": [
    {
     "name": "stdout",
     "output_type": "stream",
     "text": [
      "Bir kelime giriniz:ahmet\n",
      "temha"
     ]
    }
   ],
   "source": [
    "# 2 \n",
    "# Kullanıcının girdiği kelimeyi ters çeviren bir kod yazınız.\n",
    "\n",
    "kelime = input(\"Bir kelime giriniz:\")\n",
    "for x in kelime [::-1]:\n",
    "    print (x, end=\"\")"
   ]
  },
  {
   "cell_type": "code",
   "execution_count": 5,
   "metadata": {},
   "outputs": [
    {
     "name": "stdout",
     "output_type": "stream",
     "text": [
      "[1, 1, 2, 3, 5, 8, 13, 21, 34]\n"
     ]
    }
   ],
   "source": [
    "# 3\n",
    "# 1'den 50'ye kadar olan Fibonacci sayılarından oluşan bir liste oluşturun. \n",
    "# Ilk iki Fibonacci sayısı 1'dir. Sonraki sayılar, önceki iki sayının toplamıdır.\n",
    "\n",
    "Fibonacci=[]\n",
    "x=0\n",
    "y=1\n",
    "while y<51:\n",
    "    Fibonacci.append(y)\n",
    "    x,y = y, x+y\n",
    "print(Fibonacci)"
   ]
  },
  {
   "cell_type": "code",
   "execution_count": 6,
   "metadata": {},
   "outputs": [
    {
     "name": "stdout",
     "output_type": "stream",
     "text": [
      "Bir sayi giriniz:3\n",
      "3 x 1 = 3\n",
      "3 x 2 = 6\n",
      "3 x 3 = 9\n",
      "3 x 4 = 12\n",
      "3 x 5 = 15\n",
      "3 x 6 = 18\n",
      "3 x 7 = 21\n",
      "3 x 8 = 24\n",
      "3 x 9 = 27\n",
      "3 x 10 = 30\n"
     ]
    }
   ],
   "source": [
    "# 4\n",
    "# Girilen bir sayı için çarpım tablosunu yazdırın.\n",
    "\n",
    "sayi = int(input('Bir sayi giriniz:'))\n",
    "carpim = 0\n",
    "\n",
    "while carpim < 10:\n",
    "    carpim+=1\n",
    "    print(sayi,\"x\",carpim,\"=\",sayi*carpim)"
   ]
  },
  {
   "cell_type": "code",
   "execution_count": 7,
   "metadata": {},
   "outputs": [
    {
     "name": "stdout",
     "output_type": "stream",
     "text": [
      "[1, 8, 9, 64, 25, 216, 49, 512, 81, 1000, 121, 1728, 169, 2744, 225, 4096, 289, 5832, 361, 8000]\n"
     ]
    }
   ],
   "source": [
    "# 5\n",
    "# List comprehension kullanarak, \n",
    "# 1'den 20'ye kadar tek sayıların karesini, çift sayıların küpünü içeren bir liste oluşturun.\n",
    "\n",
    "a = [x**3 if x%2==0 else x**2 for x in range (1,21)]\n",
    "print(a)"
   ]
  }
 ],
 "metadata": {
  "kernelspec": {
   "display_name": "Python 3",
   "language": "python",
   "name": "python3"
  },
  "language_info": {
   "codemirror_mode": {
    "name": "ipython",
    "version": 3
   },
   "file_extension": ".py",
   "mimetype": "text/x-python",
   "name": "python",
   "nbconvert_exporter": "python",
   "pygments_lexer": "ipython3",
   "version": "3.7.3"
  }
 },
 "nbformat": 4,
 "nbformat_minor": 2
}
