{
 "cells": [
  {
   "cell_type": "markdown",
   "metadata": {},
   "source": [
    "# 2.2. Python Temeller - odev"
   ]
  },
  {
   "cell_type": "code",
   "execution_count": 1,
   "metadata": {},
   "outputs": [
    {
     "name": "stdout",
     "output_type": "stream",
     "text": [
      "Bir hafta sonunda elimizdeki para 2210.68$ olurdu\n"
     ]
    }
   ],
   "source": [
    "# Bitcoin'in iyi kazandırdığı 2017 yılı sonunda yatırım yaptığınızı farz edelim. \n",
    "# Günlük ortalama %12 artan bitcoine 1000$ yatırmış olsaydınız bir hafta sonunda paranız ne kadar olurdu? \n",
    "# Lütfen problemi Python kullanarak çözün.\n",
    "\n",
    "anapara = 1000\n",
    "artis = 0.12\n",
    "sure = 7\n",
    "toplam = anapara*((1+artis)**sure)\n",
    "metin = 'Bir hafta sonunda elimizdeki para {:.2f}$ olurdu'\n",
    "print(metin.format(toplam))\n"
   ]
  },
  {
   "cell_type": "code",
   "execution_count": 2,
   "metadata": {},
   "outputs": [
    {
     "name": "stdout",
     "output_type": "stream",
     "text": [
      "Hafta basinda 1000 dolarlik bitcoin aldigimizda gunde ortalama %12 kazancla, bir hafta sonunda 1210.68 dolar kazanirdik.\n"
     ]
    }
   ],
   "source": [
    "# Tırnak içindeki metni Python ile yazdırın. Ancak rakamlar değişkenlerden gelmeli. \n",
    "# Metin uzun olduğu için iki satıra yazmayı düşünebilirsiniz: \n",
    "#\"Hafta başında 1000 dolarlık bitcoin aldığımızda günde ortalama %12 kazançla, \n",
    "# bir hafta sonunda 1210.68 dolar kazanırdık\"\n",
    "\n",
    "anapara = 1000\n",
    "artis = \"%12\"\n",
    "kazanc = 1210.68\n",
    "print (\"Hafta basinda\",anapara,\"dolarlik bitcoin aldigimizda gunde ortalama\",artis,\"kazancla, bir hafta sonunda\",kazanc,\"dolar kazanirdik.\")\n"
   ]
  },
  {
   "cell_type": "code",
   "execution_count": 3,
   "metadata": {},
   "outputs": [
    {
     "name": "stdout",
     "output_type": "stream",
     "text": [
      "Dosya adi:Odev\n",
      "Odev.py\n"
     ]
    }
   ],
   "source": [
    "# Kullanıcıdan dosya adını alan ve bu dosya adına \"py\" uzantısı ekleyerek ekrana yazdıran bir kod yazınız.\n",
    "\n",
    "dosya = input (\"Dosya adi:\")\n",
    "print(\"{}.py\".format(dosya))\n"
   ]
  }
 ],
 "metadata": {
  "kernelspec": {
   "display_name": "Python 3",
   "language": "python",
   "name": "python3"
  },
  "language_info": {
   "codemirror_mode": {
    "name": "ipython",
    "version": 3
   },
   "file_extension": ".py",
   "mimetype": "text/x-python",
   "name": "python",
   "nbconvert_exporter": "python",
   "pygments_lexer": "ipython3",
   "version": "3.7.3"
  }
 },
 "nbformat": 4,
 "nbformat_minor": 2
}
