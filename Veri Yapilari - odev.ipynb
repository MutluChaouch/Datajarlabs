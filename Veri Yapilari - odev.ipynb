{
 "cells": [
  {
   "cell_type": "markdown",
   "metadata": {},
   "source": [
    "# 2.3. Veri Yapilari - odev"
   ]
  },
  {
   "cell_type": "code",
   "execution_count": 1,
   "metadata": {},
   "outputs": [
    {
     "name": "stdout",
     "output_type": "stream",
     "text": [
      "{'1': 'pazartesi', '2': 'sali', '3': 'carsamba', '4': 'persembe', '5': 'cuma', '6': 'cumartesi', '7': 'pazar'}\n",
      "{'1': 'pazartesi', '3': 'carsamba', '4': 'persembe', '5': 'cuma', '6': 'cumartesi', '7': 'pazar'}\n"
     ]
    }
   ],
   "source": [
    "# İçerisinde 7 günün bulunduğu bir sözlük oluşturun. \n",
    "# Kullanıcıya günleri listeleyerek 2 farklı gün seçmesini isteyin (örneğin pazartesi ve salı için \"12\" gibi). \n",
    "# Kullanıcının seçtiği günleri sözlükten silerek kalan 5 günü ekrana yazdırın.\n",
    "\n",
    "gunler = {'1':'pazartesi','2':'sali','3':'carsamba','4':'persembe','5':'cuma','6':'cumartesi','7':'pazar'}\n",
    "print(gunler)\n",
    "gunler.pop('2','3')\n",
    "print(gunler)"
   ]
  },
  {
   "cell_type": "code",
   "execution_count": 2,
   "metadata": {},
   "outputs": [
    {
     "name": "stdout",
     "output_type": "stream",
     "text": [
      "[['Ocak', 31], ['Subat', 28], ['Mart', 31], ['Nisan', 30], ['Mayis', 31], ['Haziran', 30], ['Temmuz', 31], ['Agustos', 31], ['Eylul', 30], ['Ekim', 31], ['Kasim', 30], ['Aralik', 31]]\n"
     ]
    }
   ],
   "source": [
    "# Ayların kaç gün çektiğini karıştırabiliyoruz. \n",
    "# Bunun için bir liste oluşturun ancak listenizde ay isimleri ve gün sayıları beraber bulunsun\n",
    "# (ipucu: listenizin içinde başka bir veri yapısı yer alacak!).\n",
    "\n",
    "ag = [['Ocak',31],['Subat',28],['Mart',31],['Nisan',30],['Mayis',31],['Haziran',30],['Temmuz',31],\n",
    "         ['Agustos',31],['Eylul',30],['Ekim',31],['Kasim',30],['Aralik',31]]\n",
    "print (ag)"
   ]
  },
  {
   "cell_type": "code",
   "execution_count": 3,
   "metadata": {},
   "outputs": [
    {
     "name": "stdout",
     "output_type": "stream",
     "text": [
      "[['Ocak', 'Subat', 'Mart', 'Nisan', 'Mayis', 'Haziran', 'Temmuz', 'Agustos', 'Eylul', 'Ekim', 'Kasim', 'Aralik'], [31, 28, 31, 30, 31, 30, 31, 31, 30, 31, 30, 31]]\n"
     ]
    }
   ],
   "source": [
    "# Bilgileri bir önceki listeden alan başka bir ay listesi oluşturun. \n",
    "# Bu kez ayları günlerle birlikte listenin içinde iki ayrı listede tutun.\n",
    "\n",
    "ay = [ag[0][0],ag[1][0],ag[2][0],ag[3][0],ag[4][0],ag[5][0],ag[6][0],ag[7][0],ag[8][0],ag[9][0],ag[10][0],ag[11][0]]\n",
    "gun = [ag[0][1],ag[1][1],ag[2][1],ag[3][1],ag[4][1],ag[5][1],ag[6][1],ag[7][1],ag[8][1],ag[9][1],ag[10][1],ag[11][1]]\n",
    "aylar_gunler = [ay,gun]\n",
    "print(aylar_gunler)"
   ]
  },
  {
   "cell_type": "code",
   "execution_count": 4,
   "metadata": {},
   "outputs": [
    {
     "name": "stdout",
     "output_type": "stream",
     "text": [
      "[['Mart', 'Nisan', 'Mayis'], ['Haziran', 'Temmuz', 'Agustos'], ['Eylul', 'Ekim', 'Kasim'], ['Aralik', 'Ocak', 'Subat']]\n"
     ]
    }
   ],
   "source": [
    "# Şimdi ise mevsim mevsim ayrılmış ay listeleri oluşturun. \n",
    "# Liste adlarına mevsimlerin adlarını verin.\n",
    "\n",
    "ilkbahar = ['Mart','Nisan','Mayis']\n",
    "yaz = ['Haziran','Temmuz','Agustos']\n",
    "sonbahar = ['Eylul','Ekim','Kasim']\n",
    "kis = ['Aralik','Ocak','Subat']\n",
    "aylar = [ilkbahar,yaz,sonbahar,kis]\n",
    "print (aylar)"
   ]
  },
  {
   "cell_type": "code",
   "execution_count": 5,
   "metadata": {},
   "outputs": [
    {
     "name": "stdout",
     "output_type": "stream",
     "text": [
      "92\n"
     ]
    }
   ],
   "source": [
    "# Son olarak, bir önceki sorudaki listeden yaz ayının kaç gün sürdüğünü hesaplayın.\n",
    "\n",
    "yaz_gun = ag[5][1]+ag[6][1]+ag[7][1]\n",
    "print(yaz_gun)"
   ]
  }
 ],
 "metadata": {
  "kernelspec": {
   "display_name": "Python 3",
   "language": "python",
   "name": "python3"
  },
  "language_info": {
   "codemirror_mode": {
    "name": "ipython",
    "version": 3
   },
   "file_extension": ".py",
   "mimetype": "text/x-python",
   "name": "python",
   "nbconvert_exporter": "python",
   "pygments_lexer": "ipython3",
   "version": "3.7.3"
  }
 },
 "nbformat": 4,
 "nbformat_minor": 2
}
