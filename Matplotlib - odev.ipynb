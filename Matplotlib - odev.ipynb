{
 "cells": [
  {
   "cell_type": "markdown",
   "metadata": {},
   "source": [
    "## 2.8. Matplotlib - Odev"
   ]
  },
  {
   "cell_type": "code",
   "execution_count": 1,
   "metadata": {},
   "outputs": [],
   "source": [
    "import matplotlib.pyplot as plt\n",
    "import pandas as pd\n",
    "import numpy as np\n",
    "import warnings\n",
    "warnings.filterwarnings('ignore')"
   ]
  },
  {
   "cell_type": "code",
   "execution_count": 2,
   "metadata": {},
   "outputs": [],
   "source": [
    "# Bu ödevde, kategorik bir değişken içeren bir veri kümesi bulmanız gerekecek. \n",
    "# Bunun için Kaggle sitesindeki veri setlerine bir göz atabilirsiniz. \n",
    "# Daha sonra, bulduğunuz veri kümesini Pandas'ı kullanarak bir veri çerçevesine aktarın. \n",
    "# Veri kümenizde yer alan kategorik değişkenlerden iki tanesini seçin ve subplot kullanarak, \n",
    "# bu iki değişkenin çubuk grafiklerini çıkarın. Bulgularınızı mentörünüzle tartışmayı unutmayın!\n",
    "\n",
    "df = pd.read_csv('Life Expectancy Data.csv')\n",
    "df.head()\n",
    "df = df[df['Year']>2012]\n",
    "df.head()\n",
    "df.Year = df.Year.astype(int)"
   ]
  },
  {
   "cell_type": "code",
   "execution_count": 4,
   "metadata": {},
   "outputs": [
    {
     "data": {
      "image/png": "[encoded data removed]",
      "text/plain": [
       "<Figure size 720x432 with 2 Axes>"
      ]
     },
     "metadata": {
      "needs_background": "light"
     },
     "output_type": "display_data"
    }
   ],
   "source": [
    "plt.figure(figsize=(10,6))\n",
    "\n",
    "plt.subplot (1,2,1)\n",
    "plt.bar(x = df['Status'], height = df['infant deaths'], color='purple')\n",
    "plt.ylabel('Total Infant Deaths')\n",
    "plt.title('Infant Deaths by Status')\n",
    "\n",
    "plt.subplot(1,2,2)\n",
    "plt.bar(x = df.Year.astype(int), height = df['infant deaths'], color='green')\n",
    "plt.ylabel('Total Infant Deaths')\n",
    "plt.title('Infant Deaths by Year')\n",
    "\n",
    "plt.show()"
   ]
  },
  {
   "cell_type": "code",
   "execution_count": null,
   "metadata": {},
   "outputs": [],
   "source": []
  }
 ],
 "metadata": {
  "kernelspec": {
   "display_name": "Python 3",
   "language": "python",
   "name": "python3"
  },
  "language_info": {
   "codemirror_mode": {
    "name": "ipython",
    "version": 3
   },
   "file_extension": ".py",
   "mimetype": "text/x-python",
   "name": "python",
   "nbconvert_exporter": "python",
   "pygments_lexer": "ipython3",
   "version": "3.7.3"
  }
 },
 "nbformat": 4,
 "nbformat_minor": 2
}
