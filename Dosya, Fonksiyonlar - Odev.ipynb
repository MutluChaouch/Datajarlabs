{
 "cells": [
  {
   "cell_type": "markdown",
   "metadata": {},
   "source": [
    "## 2.5. Dosya Islemleri, Fonksiyonlar - Odev"
   ]
  },
  {
   "cell_type": "code",
   "execution_count": 1,
   "metadata": {},
   "outputs": [
    {
     "name": "stdout",
     "output_type": "stream",
     "text": [
      "12\n"
     ]
    }
   ],
   "source": [
    "# 1\n",
    "# Seçeceğiniz herhangi bir şiiri bilgisayarına .txt dosyası olarak kaydedin. \n",
    "\n",
    "with open (\"siir.txt\",'r', encoding='utf8') as f:\n",
    "    dize = len(f.readlines())\n",
    "print (dize)"
   ]
  },
  {
   "cell_type": "code",
   "execution_count": 2,
   "metadata": {},
   "outputs": [],
   "source": [
    "# 1 devami\n",
    "# Şiirin kaç dizeden oluştuğunu hesaplayın ve başka bir dosyaya her dizenin ilk kelimesini yazdırın.\n",
    "\n",
    "with open (\"siir.txt\",'r', encoding='utf8') as f:\n",
    "    dizeler = f.readline()\n",
    "\n",
    "f = open (\"siir_ilk.txt\",'w', encoding='utf8')\n",
    "for i in dizeler:\n",
    "    i = dizeler.split()\n",
    "    f.write(i[0])\n",
    "f.close()\n",
    "\n",
    "# not: sadece ilk dizenin ilk harfini yazdirabildim. Diger dizelere gecmeyi bulamadim."
   ]
  },
  {
   "cell_type": "code",
   "execution_count": 3,
   "metadata": {},
   "outputs": [
    {
     "name": "stdout",
     "output_type": "stream",
     "text": [
      "11 asal sayidir\n"
     ]
    }
   ],
   "source": [
    "# 2\n",
    "# Parametre olarak girilen bir sayının asal sayı olup olmadığını belirten bir fonksiyon yazın.\n",
    "\n",
    "def asal(x):\n",
    "    count=0\n",
    "    if x <=2:\n",
    "        print('{} asal sayidir'.format(x))\n",
    "    elif x%2!=0:\n",
    "        for y in range (2,x//2):\n",
    "            if(x%y)==0:\n",
    "                count+=1\n",
    "        print('{} asal sayidir'.format(x))\n",
    "    else:\n",
    "        print('{} asal sayi degildir'.format(x))\n",
    "asal(11)"
   ]
  },
  {
   "cell_type": "code",
   "execution_count": 4,
   "metadata": {},
   "outputs": [
    {
     "data": {
      "text/plain": [
       "[1, 2, 3, 4]"
      ]
     },
     "execution_count": 4,
     "metadata": {},
     "output_type": "execute_result"
    }
   ],
   "source": [
    "# 3\n",
    "# Parametre olarak girilecek listenin elemanlarını yeni bir listeye her değer sadece bir kere geçecek şekilde \n",
    "# aktaran bir fonksiyon yazın. Normalde bu işlemi set() komutu ile yapabiliriz ama bu seferlik bu komutu kullanmayalım.\n",
    "# Örnek : uniq_liste([1,2,2,3,3,4,4]) = [1,2,3,4]\n",
    "\n",
    "def uniq(liste):\n",
    "    uniq_liste = []\n",
    "    for x in liste:\n",
    "        if x not in uniq_liste:\n",
    "            uniq_liste.append(x)\n",
    "    return uniq_liste\n",
    "\n",
    "liste = [1,2,2,3,3,4,4]\n",
    "uniq(liste)"
   ]
  },
  {
   "cell_type": "code",
   "execution_count": 5,
   "metadata": {},
   "outputs": [
    {
     "name": "stdout",
     "output_type": "stream",
     "text": [
      "37\n"
     ]
    }
   ],
   "source": [
    "# 4\n",
    "# Python'da hazır birçok modül bulunmaktadır. \n",
    "# Zaman ile ilgili modüllerden birisini import ederek, parametre olarak \n",
    "# doğum tarihi alan ve yaşı döndüren bir fonksiyon yazınız.\n",
    "\n",
    "from datetime import date\n",
    "\n",
    "def yas(dogum_tarihi):\n",
    "    bugun = date.today()\n",
    "    yas = bugun.year - dogum_tarihi.year - ((bugun.month, bugun.day) < (dogum_tarihi.month, dogum_tarihi.day))\n",
    "    return yas\n",
    "print(yas(date(1983, 1, 17)))"
   ]
  }
 ],
 "metadata": {
  "kernelspec": {
   "display_name": "Python 3",
   "language": "python",
   "name": "python3"
  },
  "language_info": {
   "codemirror_mode": {
    "name": "ipython",
    "version": 3
   },
   "file_extension": ".py",
   "mimetype": "text/x-python",
   "name": "python",
   "nbconvert_exporter": "python",
   "pygments_lexer": "ipython3",
   "version": "3.7.3"
  }
 },
 "nbformat": 4,
 "nbformat_minor": 2
}
